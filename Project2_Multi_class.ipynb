{
  "cells": [
    {
      "cell_type": "code",
      "execution_count": 145,
      "metadata": {
        "id": "mxg2j_ChzpcD",
        "colab": {
          "base_uri": "https://localhost:8080/",
          "height": 204
        },
        "outputId": "076b8e31-4e83-40f0-c58b-a95095d17d60"
      },
      "outputs": [
        {
          "output_type": "execute_result",
          "data": {
            "text/plain": [
              "   mass  width  height  color_score  class\n",
              "0   192    8.4     7.3         0.55      1\n",
              "1   180    8.0     6.8         0.59      1\n",
              "2   176    7.4     7.2         0.60      1\n",
              "3    86    6.2     4.7         0.80      2\n",
              "4    84    6.0     4.6         0.79      2"
            ],
            "text/html": [
              "\n",
              "  <div id=\"df-b8cfc1b9-185d-44fa-b183-8c20171a0091\">\n",
              "    <div class=\"colab-df-container\">\n",
              "      <div>\n",
              "<style scoped>\n",
              "    .dataframe tbody tr th:only-of-type {\n",
              "        vertical-align: middle;\n",
              "    }\n",
              "\n",
              "    .dataframe tbody tr th {\n",
              "        vertical-align: top;\n",
              "    }\n",
              "\n",
              "    .dataframe thead th {\n",
              "        text-align: right;\n",
              "    }\n",
              "</style>\n",
              "<table border=\"1\" class=\"dataframe\">\n",
              "  <thead>\n",
              "    <tr style=\"text-align: right;\">\n",
              "      <th></th>\n",
              "      <th>mass</th>\n",
              "      <th>width</th>\n",
              "      <th>height</th>\n",
              "      <th>color_score</th>\n",
              "      <th>class</th>\n",
              "    </tr>\n",
              "  </thead>\n",
              "  <tbody>\n",
              "    <tr>\n",
              "      <th>0</th>\n",
              "      <td>192</td>\n",
              "      <td>8.4</td>\n",
              "      <td>7.3</td>\n",
              "      <td>0.55</td>\n",
              "      <td>1</td>\n",
              "    </tr>\n",
              "    <tr>\n",
              "      <th>1</th>\n",
              "      <td>180</td>\n",
              "      <td>8.0</td>\n",
              "      <td>6.8</td>\n",
              "      <td>0.59</td>\n",
              "      <td>1</td>\n",
              "    </tr>\n",
              "    <tr>\n",
              "      <th>2</th>\n",
              "      <td>176</td>\n",
              "      <td>7.4</td>\n",
              "      <td>7.2</td>\n",
              "      <td>0.60</td>\n",
              "      <td>1</td>\n",
              "    </tr>\n",
              "    <tr>\n",
              "      <th>3</th>\n",
              "      <td>86</td>\n",
              "      <td>6.2</td>\n",
              "      <td>4.7</td>\n",
              "      <td>0.80</td>\n",
              "      <td>2</td>\n",
              "    </tr>\n",
              "    <tr>\n",
              "      <th>4</th>\n",
              "      <td>84</td>\n",
              "      <td>6.0</td>\n",
              "      <td>4.6</td>\n",
              "      <td>0.79</td>\n",
              "      <td>2</td>\n",
              "    </tr>\n",
              "  </tbody>\n",
              "</table>\n",
              "</div>\n",
              "      <button class=\"colab-df-convert\" onclick=\"convertToInteractive('df-b8cfc1b9-185d-44fa-b183-8c20171a0091')\"\n",
              "              title=\"Convert this dataframe to an interactive table.\"\n",
              "              style=\"display:none;\">\n",
              "        \n",
              "  <svg xmlns=\"http://www.w3.org/2000/svg\" height=\"24px\"viewBox=\"0 0 24 24\"\n",
              "       width=\"24px\">\n",
              "    <path d=\"M0 0h24v24H0V0z\" fill=\"none\"/>\n",
              "    <path d=\"M18.56 5.44l.94 2.06.94-2.06 2.06-.94-2.06-.94-.94-2.06-.94 2.06-2.06.94zm-11 1L8.5 8.5l.94-2.06 2.06-.94-2.06-.94L8.5 2.5l-.94 2.06-2.06.94zm10 10l.94 2.06.94-2.06 2.06-.94-2.06-.94-.94-2.06-.94 2.06-2.06.94z\"/><path d=\"M17.41 7.96l-1.37-1.37c-.4-.4-.92-.59-1.43-.59-.52 0-1.04.2-1.43.59L10.3 9.45l-7.72 7.72c-.78.78-.78 2.05 0 2.83L4 21.41c.39.39.9.59 1.41.59.51 0 1.02-.2 1.41-.59l7.78-7.78 2.81-2.81c.8-.78.8-2.07 0-2.86zM5.41 20L4 18.59l7.72-7.72 1.47 1.35L5.41 20z\"/>\n",
              "  </svg>\n",
              "      </button>\n",
              "      \n",
              "  <style>\n",
              "    .colab-df-container {\n",
              "      display:flex;\n",
              "      flex-wrap:wrap;\n",
              "      gap: 12px;\n",
              "    }\n",
              "\n",
              "    .colab-df-convert {\n",
              "      background-color: #E8F0FE;\n",
              "      border: none;\n",
              "      border-radius: 50%;\n",
              "      cursor: pointer;\n",
              "      display: none;\n",
              "      fill: #1967D2;\n",
              "      height: 32px;\n",
              "      padding: 0 0 0 0;\n",
              "      width: 32px;\n",
              "    }\n",
              "\n",
              "    .colab-df-convert:hover {\n",
              "      background-color: #E2EBFA;\n",
              "      box-shadow: 0px 1px 2px rgba(60, 64, 67, 0.3), 0px 1px 3px 1px rgba(60, 64, 67, 0.15);\n",
              "      fill: #174EA6;\n",
              "    }\n",
              "\n",
              "    [theme=dark] .colab-df-convert {\n",
              "      background-color: #3B4455;\n",
              "      fill: #D2E3FC;\n",
              "    }\n",
              "\n",
              "    [theme=dark] .colab-df-convert:hover {\n",
              "      background-color: #434B5C;\n",
              "      box-shadow: 0px 1px 3px 1px rgba(0, 0, 0, 0.15);\n",
              "      filter: drop-shadow(0px 1px 2px rgba(0, 0, 0, 0.3));\n",
              "      fill: #FFFFFF;\n",
              "    }\n",
              "  </style>\n",
              "\n",
              "      <script>\n",
              "        const buttonEl =\n",
              "          document.querySelector('#df-b8cfc1b9-185d-44fa-b183-8c20171a0091 button.colab-df-convert');\n",
              "        buttonEl.style.display =\n",
              "          google.colab.kernel.accessAllowed ? 'block' : 'none';\n",
              "\n",
              "        async function convertToInteractive(key) {\n",
              "          const element = document.querySelector('#df-b8cfc1b9-185d-44fa-b183-8c20171a0091');\n",
              "          const dataTable =\n",
              "            await google.colab.kernel.invokeFunction('convertToInteractive',\n",
              "                                                     [key], {});\n",
              "          if (!dataTable) return;\n",
              "\n",
              "          const docLinkHtml = 'Like what you see? Visit the ' +\n",
              "            '<a target=\"_blank\" href=https://colab.research.google.com/notebooks/data_table.ipynb>data table notebook</a>'\n",
              "            + ' to learn more about interactive tables.';\n",
              "          element.innerHTML = '';\n",
              "          dataTable['output_type'] = 'display_data';\n",
              "          await google.colab.output.renderOutput(dataTable, element);\n",
              "          const docLink = document.createElement('div');\n",
              "          docLink.innerHTML = docLinkHtml;\n",
              "          element.appendChild(docLink);\n",
              "        }\n",
              "      </script>\n",
              "    </div>\n",
              "  </div>\n",
              "  "
            ]
          },
          "metadata": {},
          "execution_count": 145
        }
      ],
      "source": [
        "import pandas as pd\n",
        "\n",
        "df=pd.read_csv('fruit.csv', index_col = 0)\n",
        "\n",
        "y = df['class'].values\n",
        "X = df.drop(columns = 'class').values\n",
        "\n",
        "df.head()"
      ]
    },
    {
      "cell_type": "code",
      "source": [
        "# Check for NaN value\n",
        "df.isnull().sum()"
      ],
      "metadata": {
        "colab": {
          "base_uri": "https://localhost:8080/"
        },
        "id": "u-FY-9kpDZV4",
        "outputId": "47939a41-b861-4629-ce1d-513870e991bf"
      },
      "execution_count": 146,
      "outputs": [
        {
          "output_type": "execute_result",
          "data": {
            "text/plain": [
              "mass           0\n",
              "width          0\n",
              "height         0\n",
              "color_score    0\n",
              "class          0\n",
              "dtype: int64"
            ]
          },
          "metadata": {},
          "execution_count": 146
        }
      ]
    },
    {
      "cell_type": "markdown",
      "source": [
        "### Train-test split"
      ],
      "metadata": {
        "id": "M6MZYSLyi4jy"
      }
    },
    {
      "cell_type": "code",
      "execution_count": 147,
      "metadata": {
        "id": "_2iwdV55zpcF"
      },
      "outputs": [],
      "source": [
        "# perform train - test split. (40% as testing and 60% as training)\n",
        "from sklearn.model_selection import train_test_split\n",
        "X_train, X_test, y_train, y_test = train_test_split(X,y, test_size = 0.4, random_state =1)"
      ]
    },
    {
      "cell_type": "markdown",
      "source": [
        "### KNN"
      ],
      "metadata": {
        "id": "GEhzy_fni2XS"
      }
    },
    {
      "cell_type": "code",
      "execution_count": 148,
      "metadata": {
        "id": "odh5kCCfzpcG",
        "colab": {
          "base_uri": "https://localhost:8080/"
        },
        "outputId": "5a66bb87-27c6-4160-f541-127d5c0c18ea"
      },
      "outputs": [
        {
          "output_type": "execute_result",
          "data": {
            "text/plain": [
              "Pipeline(steps=[('scaler', StandardScaler()), ('knn', KNeighborsClassifier())])"
            ]
          },
          "metadata": {},
          "execution_count": 148
        }
      ],
      "source": [
        "#--------------------------------------------------\n",
        "##------------ K-NN Classifier ------------------## \n",
        "#--------------------------------------------------\n",
        "from sklearn.preprocessing import StandardScaler\n",
        "from sklearn.pipeline import Pipeline\n",
        "from sklearn.neighbors import KNeighborsClassifier\n",
        "\n",
        "steps = [('scaler', StandardScaler()),         \n",
        "         ('knn', KNeighborsClassifier(n_neighbors = 5))]\n",
        "\n",
        "knn_pipeline = Pipeline(steps)\n",
        "knn_pipeline.fit(X_train, y_train)"
      ]
    },
    {
      "cell_type": "markdown",
      "source": [
        "### Logistic Regression"
      ],
      "metadata": {
        "id": "eYGrpVbKiyoG"
      }
    },
    {
      "cell_type": "code",
      "source": [
        "# #--------------------------------------------------\n",
        "# ## ----------- Logistic Regression ---------------## \n",
        "# #--------------------------------------------------\n",
        "# from sklearn.preprocessing import StandardScaler \n",
        "# from sklearn.linear_model import LogisticRegression \n",
        "# from sklearn.pipeline import Pipeline\n",
        "\n",
        "# steps = [('scaler', StandardScaler()),\n",
        "#          ('logReg', LogisticRegression())]\n",
        "         \n",
        "# clf_pipeline = Pipeline(steps) \n",
        "# clf_pipeline.fit(X_train, y_train)"
      ],
      "metadata": {
        "id": "-OLcAbfri1eH"
      },
      "execution_count": 149,
      "outputs": []
    },
    {
      "cell_type": "code",
      "source": [
        "# check dimension of y_test\n",
        "y_test"
      ],
      "metadata": {
        "colab": {
          "base_uri": "https://localhost:8080/"
        },
        "id": "_C_eDTyO52k4",
        "outputId": "5978e03d-5b19-4d0d-8a95-b11ea9bc402f"
      },
      "execution_count": 150,
      "outputs": [
        {
          "output_type": "execute_result",
          "data": {
            "text/plain": [
              "array([4, 1, 3, 4, 3, 3, 3, 1, 1, 4, 4, 2, 3, 3, 3, 1, 4, 3, 4, 3, 3, 4,\n",
              "       3, 4])"
            ]
          },
          "metadata": {},
          "execution_count": 150
        }
      ]
    },
    {
      "cell_type": "code",
      "source": [
        "# check dimension of ypred_testP\n",
        "ypred_testP"
      ],
      "metadata": {
        "colab": {
          "base_uri": "https://localhost:8080/"
        },
        "id": "oOud6Uvh30Q7",
        "outputId": "9a9e283a-a70f-4fe6-a4c1-fb3b569a8599"
      },
      "execution_count": 151,
      "outputs": [
        {
          "output_type": "execute_result",
          "data": {
            "text/plain": [
              "array([[0. , 0. , 0. , 1. ],\n",
              "       [1. , 0. , 0. , 0. ],\n",
              "       [0.4, 0. , 0.6, 0. ],\n",
              "       [0.2, 0. , 0.2, 0.6],\n",
              "       [0.2, 0. , 0.8, 0. ],\n",
              "       [0.8, 0. , 0.2, 0. ],\n",
              "       [0.2, 0. , 0.8, 0. ],\n",
              "       [0.8, 0. , 0.2, 0. ],\n",
              "       [0.6, 0. , 0.4, 0. ],\n",
              "       [0. , 0. , 0. , 1. ],\n",
              "       [0.2, 0. , 0.2, 0.6],\n",
              "       [0. , 0.8, 0.2, 0. ],\n",
              "       [0.4, 0. , 0.6, 0. ],\n",
              "       [0.2, 0. , 0.8, 0. ],\n",
              "       [0. , 0. , 0.6, 0.4],\n",
              "       [1. , 0. , 0. , 0. ],\n",
              "       [0. , 0. , 0. , 1. ],\n",
              "       [0.2, 0. , 0.6, 0.2],\n",
              "       [0. , 0. , 0. , 1. ],\n",
              "       [0.2, 0. , 0.8, 0. ],\n",
              "       [0.4, 0. , 0.6, 0. ],\n",
              "       [0.2, 0. , 0.2, 0.6],\n",
              "       [0.2, 0. , 0.4, 0.4],\n",
              "       [0.2, 0. , 0.2, 0.6]])"
            ]
          },
          "metadata": {},
          "execution_count": 151
        }
      ]
    },
    {
      "cell_type": "code",
      "execution_count": 152,
      "metadata": {
        "id": "6Q5YTVhuzpcH",
        "colab": {
          "base_uri": "https://localhost:8080/"
        },
        "outputId": "2181ff4b-27c9-41eb-cf23-ed7a101847d7"
      },
      "outputs": [
        {
          "output_type": "stream",
          "name": "stdout",
          "text": [
            "[[ 4  0  0  0]\n",
            " [ 0  1  0  0]\n",
            " [ 1  0 10  0]\n",
            " [ 0  0  0  8]]\n",
            "              precision    recall  f1-score   support\n",
            "\n",
            "           1       0.80      1.00      0.89         4\n",
            "           2       1.00      1.00      1.00         1\n",
            "           3       1.00      0.91      0.95        11\n",
            "           4       1.00      1.00      1.00         8\n",
            "\n",
            "    accuracy                           0.96        24\n",
            "   macro avg       0.95      0.98      0.96        24\n",
            "weighted avg       0.97      0.96      0.96        24\n",
            "\n",
            "0.9874453671328671\n"
          ]
        }
      ],
      "source": [
        "#--------------------------------------------------\n",
        "## Model Evaluation ## \n",
        "#--------------------------------------------------\n",
        "from sklearn.metrics import classification_report\n",
        "from sklearn.metrics import confusion_matrix\n",
        "from sklearn.metrics import roc_auc_score\n",
        "\n",
        "# Training\n",
        "\n",
        "# ypred_test = knn_pipeline.predict(X_train)\n",
        "# mat_clf = confusion_matrix(y_train, ypred_test)\n",
        "# report_clf = classification_report(y_train, ypred_test)\n",
        "\n",
        "# print(mat_clf)\n",
        "# print(report_clf)\n",
        "\n",
        "# ypred_testP = knn_pipeline.predict_proba(X_train)\n",
        "# auc = roc_auc_score(y_train, ypred_testP, multi_class='ovr')\n",
        "# print(auc)\n",
        "\n",
        "\n",
        "# Testing\n",
        "\n",
        "ypred_test = knn_pipeline.predict(X_test)\n",
        "mat_clf = confusion_matrix(y_test, ypred_test)\n",
        "report_clf = classification_report(y_test, ypred_test)\n",
        "\n",
        "print(mat_clf)\n",
        "print(report_clf)\n",
        "\n",
        "ypred_testP = knn_pipeline.predict_proba(X_test)\n",
        "auc = roc_auc_score(y_test, ypred_testP, multi_class='ovr')\n",
        "print(auc)"
      ]
    },
    {
      "cell_type": "markdown",
      "source": [
        "**Accuracy for KNN (K value = 5)**\n",
        "\n",
        "*   Training: accuracy 0.91\n",
        "*   Testing: accuracy 0.96\n",
        "\n",
        "**Accuracy for Logistic Regression (no hyperparameter tuning)**\n",
        "\n",
        "*   Training: accuracy 0.80\n",
        "*   Testing: accuracy 0.67\n",
        "\n",
        "\n",
        "\n",
        "\n",
        "\n"
      ],
      "metadata": {
        "id": "s-bLH2u_FhGY"
      }
    }
  ],
  "metadata": {
    "kernelspec": {
      "display_name": "Python 3",
      "language": "python",
      "name": "python3"
    },
    "language_info": {
      "codemirror_mode": {
        "name": "ipython",
        "version": 3
      },
      "file_extension": ".py",
      "mimetype": "text/x-python",
      "name": "python",
      "nbconvert_exporter": "python",
      "pygments_lexer": "ipython3",
      "version": "3.11.0"
    },
    "orig_nbformat": 4,
    "vscode": {
      "interpreter": {
        "hash": "ebfc0a8d552866b0d59eba665220a57de3bc06f3ac643b8bef38dd8f66781fdd"
      }
    },
    "colab": {
      "provenance": []
    }
  },
  "nbformat": 4,
  "nbformat_minor": 0
}